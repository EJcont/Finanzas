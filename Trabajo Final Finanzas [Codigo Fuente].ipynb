{
  "nbformat": 4,
  "nbformat_minor": 0,
  "metadata": {
    "colab": {
      "name": "Untitled33(1).ipynb",
      "provenance": [],
      "collapsed_sections": []
    },
    "kernelspec": {
      "name": "python3",
      "display_name": "Python 3"
    },
    "language_info": {
      "name": "python"
    }
  },
  "cells": [
    {
      "cell_type": "code",
      "metadata": {
        "id": "SmmlHZm5Zeu1"
      },
      "source": [
        "  import csv\n",
        "  from datetime import datetime\n",
        "  def days_between(d1, d2):\n",
        "    d1 = datetime.strptime(d1, \"%Y-%m-%d\")\n",
        "    d2 = datetime.strptime(d2, \"%Y-%m-%d\")\n",
        "    return abs((d2 - d1).days)\n"
      ],
      "execution_count": 61,
      "outputs": []
    },
    {
      "cell_type": "markdown",
      "metadata": {
        "id": "K-3pEweYRV81"
      },
      "source": [
        "# **Easy Recipt**"
      ]
    },
    {
      "cell_type": "code",
      "metadata": {
        "colab": {
          "base_uri": "https://localhost:8080/"
        },
        "id": "9DmkeFqyO0kD",
        "outputId": "d882025a-6564-4e3b-be86-9f0cad4b156b"
      },
      "source": [
        "#@title Loggin { run: \"auto\" ,display-mode: \"form\"}\n",
        "login = False\n",
        "respuesta = input(\"tienes cuenta si o no \")\n",
        "\n",
        "if respuesta == 'si' :\n",
        "   with open('bd.csv', 'r') as csvfile:\n",
        "      csv_reader = csv.reader(csvfile)\n",
        "      username = input(\"Username: \")\n",
        "      password = input(\"Password: \")\n",
        "\n",
        "      for row in csv_reader:\n",
        "         #print(row[0], row[1])\n",
        "         #print(username, password)\n",
        "         if row[0] == username and row[1] == password:\n",
        "           login = True\n",
        "         else:\n",
        "           login = False\n",
        "\n",
        "if login == True:\n",
        "  print(\"Entraste como: \"+ username)\n",
        "if login == False:\n",
        "  print(\"Password o usuario equivocado\")\n"
      ],
      "execution_count": 62,
      "outputs": [
        {
          "output_type": "stream",
          "name": "stdout",
          "text": [
            "tienes cuenta si o no si\n",
            "Username: Eduardo\n",
            "Password: perro\n",
            "Entraste como: Eduardo\n"
          ]
        }
      ]
    },
    {
      "cell_type": "markdown",
      "metadata": {
        "id": "IBS9BiBLamaR"
      },
      "source": [
        "# **Logica de fechas y Años**"
      ]
    },
    {
      "cell_type": "code",
      "metadata": {
        "id": "uvyEq4UoeREA"
      },
      "source": [
        "#@title Plazo de taza:  Nominal? { run: \"auto\" ,display-mode: \"form\"}\n",
        "plazo_de_taza = True #@param {type:\"boolean\"}\n",
        "\n"
      ],
      "execution_count": 69,
      "outputs": []
    },
    {
      "cell_type": "code",
      "metadata": {
        "colab": {
          "base_uri": "https://localhost:8080/"
        },
        "id": "XGwiMFmk_rQ4",
        "outputId": "7f68d548-f4cd-49c0-8a6c-e1910a10045d"
      },
      "source": [
        "#@title Doble click aqui si elegiste Nominal. { run: \"auto\", display-mode: \"form\" }\n",
        "capitalizacion_Var = \"Mensual\" #@param \"No\"[\"Diario\", \"Quincenal\", \"Mensual\", \"Bimestral\", \"Trimestral\", \"Cuatrimestral\", \"Semestral\", \"Anual\"]\n",
        "\n",
        "if(plazo_de_taza)== True:\n",
        "  if capitalizacion_Var == \"Diario\":\n",
        "    capitalizacion=1\n",
        "  if capitalizacion_Var == \"Quincenal\":\n",
        "    capitalizacion=15\n",
        "  if capitalizacion_Var == \"Mensual\":\n",
        "    capitalizacion=30\n",
        "  if capitalizacion_Var == \"Bimestral\":\n",
        "    capitalizacion=60\n",
        "  if capitalizacion_Var == \"Trimestral\":\n",
        "    capitalizacion=90\n",
        "  if capitalizacion_Var == \"Cuatrimestral\":\n",
        "    pcapitalizacion=120\n",
        "  if capitalizacion_Var == \"Semestral\":\n",
        "    capitalizacion=180\n",
        "  if capitalizacion_Var == \"Anual\":\n",
        "    capitalizacion=360\n",
        "else:\n",
        "  capitalizacion = None\n",
        "\n",
        "print(\"La capitalizacion es:\",capitalizacion_Var,\"que cuenta con\",capitalizacion,\"Dias\")"
      ],
      "execution_count": 70,
      "outputs": [
        {
          "output_type": "stream",
          "name": "stdout",
          "text": [
            "La capitalizacion es: Mensual que cuenta con 30 Dias\n"
          ]
        }
      ]
    },
    {
      "cell_type": "code",
      "metadata": {
        "id": "xHDIwqyCm8Xv"
      },
      "source": [
        "#@title Dias por año  { run: \"auto\",display-mode: \"form\"}\n",
        "\n",
        "Anio365 = False #@param {type:\"boolean\"}\n",
        "Anio360 = True #@param {type:\"boolean\"}\n",
        "\n"
      ],
      "execution_count": 71,
      "outputs": []
    },
    {
      "cell_type": "code",
      "metadata": {
        "colab": {
          "base_uri": "https://localhost:8080/"
        },
        "id": "-Rred2LbWIl2",
        "outputId": "20b809ed-16ef-42de-e16d-a60e4fc16a54"
      },
      "source": [
        "#@title Dias transcurridos { run: \"auto\" , display-mode: \"form\"}\n",
        "login = True\n",
        "if login == True:\n",
        "  \n",
        "  Fecha_Emision = '2021-11-01' #@param {type:\"date\"}\n",
        "  Fecha_pago = '2021-12-31' #@param {type:\"date\"}\n",
        "  Fecha_de_Descuento = '2021-12-25' #@param {type:\"date\"}\n",
        "  d1=Fecha_pago\n",
        "  d2=Fecha_de_Descuento\n",
        "  ##@markdown Recuerda que un se aplicadescuento va antes de que pagues\n",
        "\n",
        "  #@markdown Si al final de la celda tienes un numero negativo esta mal\n",
        "  Plazo_de_taza = \"Anual\" #@param [\"Diario\", \"Quincenal\", \"Mensual\", \"Bimestral\", \"Trimestral\", \"Cuatrimestral\", \"Semestral\", \"Anual\"]\n",
        "  \n",
        "  \n",
        "  if Plazo_de_taza == \"Diario\":\n",
        "    plazo=1\n",
        "  if Plazo_de_taza == \"Quincenal\":\n",
        "    plazo=15\n",
        "  if Plazo_de_taza == \"Mensual\":\n",
        "    plazo=30\n",
        "  if Plazo_de_taza == \"Bimestral\":\n",
        "    plazo=60\n",
        "  if Plazo_de_taza == \"Trimestral\":\n",
        "    plazo=90\n",
        "  if Plazo_de_taza == \"Cuatrimestral\":\n",
        "    plazo=120\n",
        "  if Plazo_de_taza == \"Semestral\":\n",
        "    plazo=180\n",
        "  if Plazo_de_taza == \"Anual\":\n",
        "    plazo=360\n",
        "\n",
        "else:\n",
        "  print(\"Logeate primero!\")\n",
        "\n",
        "print(\"Dias transcurridos: \" ,days_between(d1,d2))\n",
        "\n",
        "print(\"El plazo es:\",Plazo_de_taza,\"que cuenta con\",plazo,\"Dias\")"
      ],
      "execution_count": 74,
      "outputs": [
        {
          "output_type": "stream",
          "name": "stdout",
          "text": [
            "Dias transcurridos:  6\n",
            "El plazo es: Anual que cuenta con 360 Dias\n"
          ]
        }
      ]
    },
    {
      "cell_type": "code",
      "metadata": {
        "id": "IYdAxPVR1AIq"
      },
      "source": [
        "#@title Datos de entrada { run: \"auto\" , display-mode: \"form\"}\n",
        "Monto_total = 1200 #@param {type:\"number\"}\n",
        "Costos_Iniciales = 0 #@param {type:\"number\"}\n",
        "Costos_Finales = 0 #@param {type:\"number\"}\n",
        "Retencion = 200 #@param {type:\"number\"}\n",
        "Tasa_porcentaje =  10#@param {type:\"number\"}"
      ],
      "execution_count": 75,
      "outputs": []
    },
    {
      "cell_type": "code",
      "metadata": {
        "colab": {
          "base_uri": "https://localhost:8080/"
        },
        "id": "9usgenXTYeWB",
        "outputId": "3886a146-0742-46fb-a7fa-fc3547b49866"
      },
      "source": [
        "############################\n",
        "# Tasa efectiva no nominal #\n",
        "############################\n",
        "if(plazo_de_taza == True):\n",
        "  TE_exp=(days_between(d1,d2)/capitalizacion)\n",
        "  TE = (1+(10/100)/(360/30))**(6/30)-1\n",
        "  TE = (1+(Tasa_porcentaje/100)/(plazo/capitalizacion))**TE_exp -1\n",
        "if(plazo_de_taza == False):\n",
        "  TE_exp=(days_between(d1,d2)/plazo)\n",
        "  TE=(((1+(float(Tasa_porcentaje/100))) ** TE_exp) -1)\n",
        "print(\"Tasa Efectiva a\",days_between(d1,d2),\"dias\",TE*100,\"%\")\n",
        "\n",
        "########\n",
        "# Tasa #\n",
        "########\n",
        "\n",
        "TasaDescuento=(TE/(1+TE))\n",
        "print(\"Tasa descontada\", TasaDescuento)\n",
        "###########\n",
        "#Descuento#\n",
        "###########\n",
        "descuento = Monto_total * TasaDescuento\n",
        "print(\"Descuento\", descuento)\n",
        "############\n",
        "#Valor neto#\n",
        "############\n",
        "VN=Monto_total-descuento\n",
        "print(\"Valor total a Neto:\", VN)\n",
        "################\n",
        "#Valor Recibido#\n",
        "################\n",
        "VR=VN - Costos_Iniciales - Retencion\n",
        "print(\"Valor total a Recibir:\", VR)\n",
        "#################\n",
        "#Valor entregado#\n",
        "#################\n",
        "VE=Monto_total + Costos_Finales - Retencion\n",
        "print(\"Valor total a entregar:\", VE)\n",
        "######\n",
        "#TCEA#\n",
        "######\n",
        "if(Anio360 == True):\n",
        "  TCEA_exp =(360/days_between(d1,d2))\n",
        "else:\n",
        "  TCEA_exp = (365/days_between(d1,d2))\n",
        "\n",
        "TCEA=((VE/VR) ** TCEA_exp) -1\n",
        "print(TCEA*100)"
      ],
      "execution_count": 80,
      "outputs": [
        {
          "output_type": "stream",
          "name": "stdout",
          "text": [
            "Tasa Efectiva a 6 dias 0.16611387278713252 %\n",
            "Tasa descontada 0.0016583839221126248\n",
            "Descuento 1.9900607065351497\n",
            "Valor total a Neto: 1198.0099392934649\n",
            "Valor total a Recibir: 998.0099392934649\n",
            "Valor total a entregar: 1000\n",
            "12.695872488234983\n"
          ]
        }
      ]
    },
    {
      "cell_type": "code",
      "metadata": {
        "colab": {
          "base_uri": "https://localhost:8080/"
        },
        "id": "ATolF4FzfV5E",
        "outputId": "386c728e-4f01-4e60-df2e-7d6f02ed3eb9"
      },
      "source": [
        "pow(2,8)"
      ],
      "execution_count": null,
      "outputs": [
        {
          "output_type": "execute_result",
          "data": {
            "text/plain": [
              "256"
            ]
          },
          "metadata": {},
          "execution_count": 22
        }
      ]
    }
  ]
}